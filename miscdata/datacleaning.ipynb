{
 "cells": [
  {
   "cell_type": "code",
   "execution_count": 1,
   "metadata": {},
   "outputs": [],
   "source": [
    "import pandas as pd"
   ]
  },
  {
   "cell_type": "code",
   "execution_count": 74,
   "metadata": {},
   "outputs": [],
   "source": [
    "gold = pd.read_csv(r\"C:\\Users\\aaron\\Downloads\\Prices.csv\")\n",
    "i = [3, 4, 30]\n",
    "gold = gold.iloc[9925:10674, i]\n",
    "gold.columns = [\"Date\", \"price\", \"cpi\"]\n",
    "gold = gold.reset_index()\n",
    "gold = gold.iloc[:, 1:4]\n",
    "gold[\"price\"] = (gold[\"price\"].str.replace(',',''))  #making convertable to float\n",
    "gold[\"cpi\"] = (gold[\"cpi\"].str.replace(',', ''))\n",
    "for i in range(len(gold)):\n",
    "    gold.loc[i, \"adjprice\"] = float(gold.loc[i, \"price\"])/(float(gold.loc[i, \"cpi\"])/100)\n",
    "gold.to_csv(r\"C:\\Users\\aaron\\School\\Fall 2019\\CS109a\\Project\\TrumpTweets\\miscdata\\golddata.csv\")"
   ]
  },
  {
   "cell_type": "code",
   "execution_count": 76,
   "metadata": {},
   "outputs": [],
   "source": [
    "oil = pd.read_csv(r\"C:\\Users\\aaron\\Downloads\\RWTCd.csv\")\n",
    "oil = oil.iloc[7822:8539]\n",
    "oil.columns = [\"Date\", \"Price\"]\n",
    "oil = oil.reset_index()\n",
    "oil = oil.iloc[:, 1:3]\n",
    "oil.to_csv(r\"C:\\Users\\aaron\\School\\Fall 2019\\CS109a\\Project\\TrumpTweets\\miscdata\\oildata.csv\")"
   ]
  }
 ],
 "metadata": {
  "kernelspec": {
   "display_name": "Python 3",
   "language": "python",
   "name": "python3"
  },
  "language_info": {
   "codemirror_mode": {
    "name": "ipython",
    "version": 3
   },
   "file_extension": ".py",
   "mimetype": "text/x-python",
   "name": "python",
   "nbconvert_exporter": "python",
   "pygments_lexer": "ipython3",
   "version": "3.7.3"
  }
 },
 "nbformat": 4,
 "nbformat_minor": 2
}
