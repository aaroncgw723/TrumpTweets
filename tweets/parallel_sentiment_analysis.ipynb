{
 "cells": [
  {
   "cell_type": "code",
   "execution_count": 10,
   "metadata": {},
   "outputs": [],
   "source": [
    "import paralleldots\n",
    "paralleldots.set_api_key(\"79hYYks8aoWgbn7fexWQgjNt7y8mpocviYDEhZwXVDs\")\n",
    "\n",
    "import pandas as pd\n",
    "import numpy as np"
   ]
  },
  {
   "cell_type": "code",
   "execution_count": 58,
   "metadata": {},
   "outputs": [
    {
     "name": "stdout",
     "output_type": "stream",
     "text": [
      "<class 'pandas.core.frame.DataFrame'>\n",
      "RangeIndex: 11717 entries, 0 to 11716\n",
      "Data columns (total 33 columns):\n",
      "Unnamed: 0                 11717 non-null int64\n",
      "Unnamed: 0.1               11717 non-null int64\n",
      "retweet_count              11717 non-null int64\n",
      "favorite_count             11717 non-null int64\n",
      "is_retweet                 11717 non-null int64\n",
      "num_words                  11717 non-null float64\n",
      "num_hashtags               11717 non-null float64\n",
      "num_mentions               11717 non-null float64\n",
      "clean_text                 11453 non-null object\n",
      "keyword_China              11717 non-null bool\n",
      "keyword_Russia             11717 non-null bool\n",
      "keyword_Mexico             11717 non-null bool\n",
      "keyword_Canada             11717 non-null bool\n",
      "keyword_Korea              11717 non-null bool\n",
      "keyword_Clinton            11717 non-null bool\n",
      "keyword_Democrats          11717 non-null bool\n",
      "keyword_Republicans        11717 non-null bool\n",
      "keyword_himself            11717 non-null bool\n",
      "keyword_family             11717 non-null bool\n",
      "keyword_government         11717 non-null bool\n",
      "keyword_media              11717 non-null bool\n",
      "keyword_states             11717 non-null bool\n",
      "keyword_social_media       11717 non-null bool\n",
      "keyword_Obama              11717 non-null bool\n",
      "keyword_FBI                11717 non-null bool\n",
      "keyword_rivals             11717 non-null bool\n",
      "keyword_MiddleEast         11717 non-null bool\n",
      "keyword_Ukraine_scandal    11717 non-null bool\n",
      "keyword_economy            11717 non-null bool\n",
      "keyword_disaster           11717 non-null bool\n",
      "positive_sentiment_pd      11717 non-null float64\n",
      "neutral_sentiment_pd       11717 non-null float64\n",
      "negative_sentiment_pd      11717 non-null float64\n",
      "dtypes: bool(21), float64(6), int64(5), object(1)\n",
      "memory usage: 1.3+ MB\n"
     ]
    }
   ],
   "source": [
    "tweet_predictors = pd.read_csv('cleaned_tweets')\n",
    "tweet_predictors.info()"
   ]
  },
  {
   "cell_type": "code",
   "execution_count": null,
   "metadata": {
    "scrolled": true
   },
   "outputs": [
    {
     "name": "stdout",
     "output_type": "stream",
     "text": [
      "Retweet RepMattGaetz: MUST-READ: \"Gaetz: 'Donald Trump Is Innocent and the Deep State Is Guilty'\"\n",
      "out of requests!\n",
      "Retweet GOPLeader: It’s been 34 days since Nancy Pelosi unilaterally declared her impeachment inquiry. Today’s backtracking is an admission t…\n",
      "out of requests!\n",
      "Retweet Techno_Fog: SidneyPowell1 KerriKupecDOJ Lisa Page lied to the DOJ about her edits to the Flynn 302.\"Page didn't recall whether she…\n",
      "out of requests!\n",
      "Retweet scottadamsshow: THE LIST: 8 Ways the Mueller Witchhunt and Lying Schiff’s Sham Impeachment Are Identical Corrupt and Unconstitutional…\n",
      "out of requests!\n",
      "Retweet scottadamsshow: Crooked Impeachment Witness Bill Taylor Led Ukraine Delegation for Group Advised by Hunter Biden. Taylor also initiated…\n",
      "out of requests!\n",
      "Retweet steph93065: Why I am a Trump Supporter...realDonaldTrump Trump2016 \n",
      "out of requests!\n",
      "I appreciate the support of Senator LindseyGraham SenateMajLdr Mitch McConnell and their Great Senate Republican colleagues on the resolution condemning the Do Nothing Democrats for their Witch Hunt Impeachment inquiry behind closed doors....\n",
      "out of requests!\n",
      "Retweet ericbolling: NEW Interview w/ realDonaldTrump -DOJ Criminal InvestigationClapper/Brennan-Comey leaking memo-Schiff corroborated…\n",
      "out of requests!\n",
      "Retweet WhiteHouse: Since President realDonaldTrump signed the First Step Act into law 10 states have passed legislation to advance criminal…\n",
      "out of requests!\n",
      "Retweet WhiteHouse: Last year President realDonaldTrump signed the First Step Act into law—the most significant criminal justice reform in ma…\n",
      "out of requests!\n",
      "Retweet TeamTrump: President realDonaldTrump: \"The best is yet to come\" for the African American community \n",
      "out of requests!\n",
      "Retweet GOPChairwoman: Members of the GOP Executive Committee just unanimously passed a resolution of support for realDonaldTrump & the Graha…\n",
      "out of requests!\n",
      "Retweet WhiteHouse: President realDonaldTrump just accepted the 2019 Bipartisan Justice Award for his leadership in the passage of the histori…\n",
      "out of requests!\n",
      "Retweet TeamTrump: President realDonaldTrump: \"We are acting not talking.\" \n",
      "out of requests!\n",
      "Retweet TeamTrump: President realDonaldTrump: \"Under this administration the great betrayal of the American worker is over.\" \n"
     ]
    }
   ],
   "source": [
    "#### using the free ParallelDots API to perform sentiment analysis\n",
    "count = 0\n",
    "for index, row in tweet_predictors.iterrows():\n",
    "    if row['positive_sentiment_pd'] != 0.180:\n",
    "        #### accidentally initialized everything to 0.180 and can't figure out how to do it right!\n",
    "        continue\n",
    "    count += 1\n",
    "    \n",
    "    if count == 100:\n",
    "        break\n",
    "    \n",
    "    print(row[\"clean_text\"])\n",
    "   \n",
    "    try:\n",
    "        response=paralleldots.sentiment(row[\"clean_text\"],\"en\")\n",
    "    \n",
    "        print(response['sentiment'])       \n",
    "    \n",
    "        tweet_predictors.loc[index, 'positive_sentiment_pd'] = response['sentiment']['positive']\n",
    "        tweet_predictors.loc[index, 'neutral_sentiment_pd'] = response['sentiment']['neutral']\n",
    "        tweet_predictors.loc[index, 'negative_sentiment_pd'] = response['sentiment']['negative']\n",
    "    except: \n",
    "        print(\"out of requests!\")"
   ]
  },
  {
   "cell_type": "code",
   "execution_count": 59,
   "metadata": {},
   "outputs": [
    {
     "name": "stderr",
     "output_type": "stream",
     "text": [
      "/usr/local/anaconda3/lib/python3.7/site-packages/ipykernel_launcher.py:1: SettingWithCopyWarning: \n",
      "A value is trying to be set on a copy of a slice from a DataFrame\n",
      "\n",
      "See the caveats in the documentation: http://pandas.pydata.org/pandas-docs/stable/indexing.html#indexing-view-versus-copy\n",
      "  \"\"\"Entry point for launching an IPython kernel.\n"
     ]
    }
   ],
   "source": [
    "tweet_predictors[tweet_predictors['positive_sentiment_pd'] == 0.180].loc[:,'positive_sentiment_pd'].iloc[1:] = 0.18\n"
   ]
  },
  {
   "cell_type": "code",
   "execution_count": 57,
   "metadata": {},
   "outputs": [],
   "source": [
    "tweet_predictors.to_csv('cleaned_tweets')"
   ]
  }
 ],
 "metadata": {
  "kernelspec": {
   "display_name": "Python 3",
   "language": "python",
   "name": "python3"
  },
  "language_info": {
   "codemirror_mode": {
    "name": "ipython",
    "version": 3
   },
   "file_extension": ".py",
   "mimetype": "text/x-python",
   "name": "python",
   "nbconvert_exporter": "python",
   "pygments_lexer": "ipython3",
   "version": "3.7.4"
  }
 },
 "nbformat": 4,
 "nbformat_minor": 2
}
