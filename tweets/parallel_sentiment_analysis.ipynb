{
 "cells": [
  {
   "cell_type": "code",
   "execution_count": 1,
   "metadata": {},
   "outputs": [],
   "source": [
    "import paralleldots\n",
    "paralleldots.set_api_key(\"79hYYks8aoWgbn7fexWQgjNt7y8mpocviYDEhZwXVDs\")\n",
    "\n",
    "import pandas as pd\n",
    "import numpy as np"
   ]
  },
  {
   "cell_type": "code",
   "execution_count": 2,
   "metadata": {},
   "outputs": [
    {
     "name": "stdout",
     "output_type": "stream",
     "text": [
      "<class 'pandas.core.frame.DataFrame'>\n",
      "RangeIndex: 11717 entries, 0 to 11716\n",
      "Data columns (total 39 columns):\n",
      "Unnamed: 0                 11717 non-null int64\n",
      "Unnamed: 0.1               11717 non-null int64\n",
      "Unnamed: 0.1.1             11717 non-null int64\n",
      "retweet_count              11717 non-null int64\n",
      "favorite_count             11717 non-null int64\n",
      "is_retweet                 11717 non-null int64\n",
      "num_words                  11717 non-null float64\n",
      "num_hashtags               11717 non-null float64\n",
      "num_mentions               11717 non-null float64\n",
      "clean_text                 11453 non-null object\n",
      "keyword_China              11717 non-null bool\n",
      "keyword_Russia             11717 non-null bool\n",
      "keyword_Mexico             11717 non-null bool\n",
      "keyword_Canada             11717 non-null bool\n",
      "keyword_Korea              11717 non-null bool\n",
      "keyword_Clinton            11717 non-null bool\n",
      "keyword_Democrats          11717 non-null bool\n",
      "keyword_Republicans        11717 non-null bool\n",
      "keyword_himself            11717 non-null bool\n",
      "keyword_family             11717 non-null bool\n",
      "keyword_government         11717 non-null bool\n",
      "keyword_media              11717 non-null bool\n",
      "keyword_states             11717 non-null bool\n",
      "keyword_social_media       11717 non-null bool\n",
      "keyword_Obama              11717 non-null bool\n",
      "keyword_FBI                11717 non-null bool\n",
      "keyword_rivals             11717 non-null bool\n",
      "keyword_MiddleEast         11717 non-null bool\n",
      "keyword_Ukraine_scandal    11717 non-null bool\n",
      "keyword_economy            11717 non-null bool\n",
      "keyword_disaster           11717 non-null bool\n",
      "positive_sentiment_pd      11717 non-null float64\n",
      "neutral_sentiment_pd       11717 non-null float64\n",
      "negative_sentiment_pd      11717 non-null float64\n",
      "year                       11717 non-null float64\n",
      "month                      11717 non-null float64\n",
      "day                        11717 non-null float64\n",
      "hour                       11717 non-null float64\n",
      "minute                     11717 non-null float64\n",
      "dtypes: bool(21), float64(11), int64(6), object(1)\n",
      "memory usage: 1.8+ MB\n"
     ]
    }
   ],
   "source": [
    "tweet_predictors = pd.read_csv('cleaned_tweets')\n",
    "tweet_predictors.info()"
   ]
  },
  {
   "cell_type": "code",
   "execution_count": 8,
   "metadata": {
    "scrolled": true
   },
   "outputs": [
    {
     "name": "stdout",
     "output_type": "stream",
     "text": [
      "Retweet RepMattGaetz: MUST-READ: \"Gaetz: 'Donald Trump Is Innocent and the Deep State Is Guilty'\"\n",
      "{'code': 429, 'message': 'Oops! You have exceeded the rate limit. Please upgrade your plan to get higher rate limits - https://user.apis.paralleldots.com/user_dashboard.'}\n"
     ]
    },
    {
     "ename": "KeyError",
     "evalue": "'sentiment'",
     "output_type": "error",
     "traceback": [
      "\u001b[0;31m---------------------------------------------------------------------------\u001b[0m",
      "\u001b[0;31mKeyError\u001b[0m                                  Traceback (most recent call last)",
      "\u001b[0;32m<ipython-input-8-d9467ab6dea4>\u001b[0m in \u001b[0;36m<module>\u001b[0;34m\u001b[0m\n\u001b[1;32m     18\u001b[0m     \u001b[0;31m#print(response['sentiment'])\u001b[0m\u001b[0;34m\u001b[0m\u001b[0;34m\u001b[0m\u001b[0;34m\u001b[0m\u001b[0m\n\u001b[1;32m     19\u001b[0m \u001b[0;34m\u001b[0m\u001b[0m\n\u001b[0;32m---> 20\u001b[0;31m     \u001b[0mtweet_predictors\u001b[0m\u001b[0;34m.\u001b[0m\u001b[0mloc\u001b[0m\u001b[0;34m[\u001b[0m\u001b[0mindex\u001b[0m\u001b[0;34m,\u001b[0m \u001b[0;34m'positive_sentiment_pd'\u001b[0m\u001b[0;34m]\u001b[0m \u001b[0;34m=\u001b[0m \u001b[0mresponse\u001b[0m\u001b[0;34m[\u001b[0m\u001b[0;34m'sentiment'\u001b[0m\u001b[0;34m]\u001b[0m\u001b[0;34m[\u001b[0m\u001b[0;34m'positive'\u001b[0m\u001b[0;34m]\u001b[0m\u001b[0;34m\u001b[0m\u001b[0;34m\u001b[0m\u001b[0m\n\u001b[0m\u001b[1;32m     21\u001b[0m     \u001b[0mtweet_predictors\u001b[0m\u001b[0;34m.\u001b[0m\u001b[0mloc\u001b[0m\u001b[0;34m[\u001b[0m\u001b[0mindex\u001b[0m\u001b[0;34m,\u001b[0m \u001b[0;34m'neutral_sentiment_pd'\u001b[0m\u001b[0;34m]\u001b[0m \u001b[0;34m=\u001b[0m \u001b[0mresponse\u001b[0m\u001b[0;34m[\u001b[0m\u001b[0;34m'sentiment'\u001b[0m\u001b[0;34m]\u001b[0m\u001b[0;34m[\u001b[0m\u001b[0;34m'neutral'\u001b[0m\u001b[0;34m]\u001b[0m\u001b[0;34m\u001b[0m\u001b[0;34m\u001b[0m\u001b[0m\n\u001b[1;32m     22\u001b[0m     \u001b[0mtweet_predictors\u001b[0m\u001b[0;34m.\u001b[0m\u001b[0mloc\u001b[0m\u001b[0;34m[\u001b[0m\u001b[0mindex\u001b[0m\u001b[0;34m,\u001b[0m \u001b[0;34m'negative_sentiment_pd'\u001b[0m\u001b[0;34m]\u001b[0m \u001b[0;34m=\u001b[0m \u001b[0mresponse\u001b[0m\u001b[0;34m[\u001b[0m\u001b[0;34m'sentiment'\u001b[0m\u001b[0;34m]\u001b[0m\u001b[0;34m[\u001b[0m\u001b[0;34m'negative'\u001b[0m\u001b[0;34m]\u001b[0m\u001b[0;34m\u001b[0m\u001b[0;34m\u001b[0m\u001b[0m\n",
      "\u001b[0;31mKeyError\u001b[0m: 'sentiment'"
     ]
    }
   ],
   "source": [
    "#### using the free ParallelDots API to perform sentiment analysis\n",
    "count = 0\n",
    "for index, row in tweet_predictors.head(n=6).iterrows():\n",
    "    if row['positive_sentiment_pd'] != 0.180:\n",
    "        #### accidentally initialized everything to 0.180 and can't figure out how to do it right!\n",
    "        continue\n",
    "    count += 1\n",
    "    \n",
    "    if count == 100:\n",
    "        break\n",
    "    \n",
    "    print(row[\"clean_text\"])\n",
    "   \n",
    "    #try:\n",
    "    response=paralleldots.sentiment(row[\"clean_text\"],\"en\")\n",
    "    \n",
    "    print(response)\n",
    "    #print(response['sentiment'])       \n",
    "    \n",
    "    tweet_predictors.loc[index, 'positive_sentiment_pd'] = response['sentiment']['positive']\n",
    "    tweet_predictors.loc[index, 'neutral_sentiment_pd'] = response['sentiment']['neutral']\n",
    "    tweet_predictors.loc[index, 'negative_sentiment_pd'] = response['sentiment']['negative']\n",
    "   # except: \n",
    "        #print(\"out of requests!\")"
   ]
  },
  {
   "cell_type": "code",
   "execution_count": 59,
   "metadata": {},
   "outputs": [
    {
     "name": "stderr",
     "output_type": "stream",
     "text": [
      "/usr/local/anaconda3/lib/python3.7/site-packages/ipykernel_launcher.py:1: SettingWithCopyWarning: \n",
      "A value is trying to be set on a copy of a slice from a DataFrame\n",
      "\n",
      "See the caveats in the documentation: http://pandas.pydata.org/pandas-docs/stable/indexing.html#indexing-view-versus-copy\n",
      "  \"\"\"Entry point for launching an IPython kernel.\n"
     ]
    }
   ],
   "source": [
    "tweet_predictors[tweet_predictors['positive_sentiment_pd'] == 0.180].loc[:,'positive_sentiment_pd'].iloc[1:] = 0.18\n"
   ]
  },
  {
   "cell_type": "code",
   "execution_count": 57,
   "metadata": {},
   "outputs": [],
   "source": [
    "tweet_predictors.to_csv('cleaned_tweets')"
   ]
  }
 ],
 "metadata": {
  "kernelspec": {
   "display_name": "Python 3",
   "language": "python",
   "name": "python3"
  },
  "language_info": {
   "codemirror_mode": {
    "name": "ipython",
    "version": 3
   },
   "file_extension": ".py",
   "mimetype": "text/x-python",
   "name": "python",
   "nbconvert_exporter": "python",
   "pygments_lexer": "ipython3",
   "version": "3.7.4"
  }
 },
 "nbformat": 4,
 "nbformat_minor": 2
}
