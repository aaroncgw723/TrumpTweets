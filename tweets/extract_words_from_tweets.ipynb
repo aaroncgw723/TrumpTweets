{
 "cells": [
  {
   "cell_type": "code",
   "execution_count": 2,
   "metadata": {},
   "outputs": [
    {
     "name": "stderr",
     "output_type": "stream",
     "text": [
      "[nltk_data] Downloading package punkt to /Users/cwagen/nltk_data...\n",
      "[nltk_data]   Package punkt is already up-to-date!\n",
      "[nltk_data] Downloading package averaged_perceptron_tagger to\n",
      "[nltk_data]     /Users/cwagen/nltk_data...\n",
      "[nltk_data]   Package averaged_perceptron_tagger is already up-to-\n",
      "[nltk_data]       date!\n"
     ]
    }
   ],
   "source": [
    "import numpy as np\n",
    "import pandas as pd\n",
    "import nltk\n",
    "nltk.download('punkt')\n",
    "nltk.download('averaged_perceptron_tagger')\n",
    "\n",
    "import matplotlib\n",
    "import matplotlib.pyplot as plt\n",
    "%matplotlib inline\n",
    "\n",
    "import paralleldots\n",
    "\n",
    "import re\n",
    "import datetime\n",
    "\n",
    "import seaborn as sns\n",
    "sns.set()\n",
    "sns.set_style('white')"
   ]
  },
  {
   "cell_type": "code",
   "execution_count": 3,
   "metadata": {},
   "outputs": [
    {
     "name": "stdout",
     "output_type": "stream",
     "text": [
      "11794 tweets in database\n",
      "9073 original tweets in database\n",
      "\n",
      "sources:\n",
      "    Twitter for iPhone           11224 rows\n",
      "    Twitter Media Studio           118 rows\n",
      "    Twitter Web App                  4 rows\n",
      "    Twitter Web Client              48 rows\n",
      "    Twitter for iPad                38 rows\n",
      "    Media Studio                   155 rows\n",
      "    Twitter Ads                     33 rows\n",
      "    Twitter for Android            174 rows\n"
     ]
    },
    {
     "data": {
      "image/png": "[encoded data removed]",
      "text/plain": [
       "<Figure size 1080x504 with 2 Axes>"
      ]
     },
     "metadata": {
      "needs_background": "light"
     },
     "output_type": "display_data"
    },
    {
     "name": "stdout",
     "output_type": "stream",
     "text": [
      "               source                                               text  \\\n",
      "0  Twitter for iPhone  RT @GOPoversight: Days since @RepAdamSchiff le...   \n",
      "1  Twitter for iPhone  RT @RepMattGaetz: MUST-READ: \"Gaetz: 'Donald T...   \n",
      "2  Twitter for iPhone  RT @RepDougCollins: Adam Schiff wants to impea...   \n",
      "3  Twitter for iPhone  RT @RepGregPence: After seven weeks of running...   \n",
      "4  Twitter for iPhone  RT @RepJeffDuncan: Now Pelosi &amp; Schiff wan...   \n",
      "\n",
      "            created_at  retweet_count  favorite_count is_retweet  \\\n",
      "0  10-30-2019 03:09:07           5818               0       True   \n",
      "1  10-30-2019 03:09:05           8236               0       True   \n",
      "2  10-30-2019 03:08:59           9495               0       True   \n",
      "3  10-30-2019 03:08:54           7861               0       True   \n",
      "4  10-30-2019 03:08:50           7280               0       True   \n",
      "\n",
      "                id_str  \n",
      "0  1189378671326515200  \n",
      "1  1189378663646711808  \n",
      "2  1189378636803129344  \n",
      "3  1189378618838925312  \n",
      "4  1189378598462984192  \n"
     ]
    }
   ],
   "source": [
    "raw_tweets = pd.read_csv('raw_tweets.csv')\n",
    "print(f\"{len(raw_tweets)} tweets in database\")\n",
    "print(f\"{len(raw_tweets.loc[raw_tweets.is_retweet == False])} original tweets in database\")\n",
    "\n",
    "print('')\n",
    "print(\"sources:\")\n",
    "for source in (raw_tweets.source.unique()):\n",
    "    count = len(raw_tweets.loc[raw_tweets.source == source])\n",
    "    print(f\"    {source:25s} {count:>8d} rows\")\n",
    "    \n",
    "fig, axes = plt.subplots(ncols=2,figsize=(15,7))\n",
    "axes[0].hist(raw_tweets.retweet_count, bins=100)\n",
    "axes[1].hist(raw_tweets.favorite_count, bins=100)\n",
    "axes[0].set_title('Histogram of # Retweets')\n",
    "axes[1].set_title('Histogram of # Retweets')\n",
    "axes[0].set_ylabel('count')\n",
    "axes[0].set_xlabel('# retweets')\n",
    "axes[1].set_xlabel('# favorites')\n",
    "plt.tight_layout()\n",
    "plt.show()\n",
    "print(raw_tweets.head())"
   ]
  },
  {
   "cell_type": "code",
   "execution_count": 3,
   "metadata": {},
   "outputs": [],
   "source": [
    "keywords_by_topic = {}\n",
    "keywords_by_topic['China'] = [\"China\", \"Xi\", \"Jinping\", \"Hong Kong\", \"Beijing\", \"Shanghai\", \"Chinese\", \"Taiwan\"]\n",
    "keywords_by_topic['Russia'] = [\"Vladimir\", \"Putin\", \"Russia\", \"Moscow\", \"Soviet\", \"Siberia\", \"Russian\"]\n",
    "keywords_by_topic['Mexico'] = [\"Mexico\", \"Border\", \"immigrants\", \"mexican\", \"Wall\", \"Obrador\", \"Mexican\", \"DACA\", \"WALL\", \"border\"]\n",
    "keywords_by_topic['Canada'] = [\"Canada\", \"Quebec\", \"Toronto\", \"Montreal\", \"Ottawa\", \"JustinTrudeau\", \"Trudeau\"]\n",
    "keywords_by_topic['Korea'] = [\"Korea\", \"Kim\", \"Rodman\", \"Pyongyang\", \"Seoul\", \"Korean\"]\n",
    "keywords_by_topic['Clinton'] = [\"Hillary\", \"Clinton\", \"Bill\", \"Crooked\", \"Watergate\", \"Arkansas\"]\n",
    "keywords_by_topic['Democrats'] = [\"Dems\", \"Democrats\", \"Nancy\", \"SpeakerPelosi\", \"Left\", \"Leftist\", \"Socialist\", \"Socialism\", \"Pelosi\", \"Democrat\", \"Democratic\", \"democratics\", \"democrat\", \"DNC\", \"Schumer\", \"Libs\", \"Liberal\", \"Liberals\"]\n",
    "keywords_by_topic['Republicans'] = [\"GOP\", \"Republicans\", \"REPUBLICANS\", \"Right\", \"republicans\", \"Republican\", \"republican\", \"McConnell\", \"GOPChairwoman\", \"RNC\", \"VP\", \"Pence\"]\n",
    "keywords_by_topic['himself'] = ['Donald', 'Trump', 'POTUS', 'MAGA', 'realDonaldTrump', 'WhiteHouse', 'President', 'MAKE', 'AMERICA', 'GREAT', 'AGAIN', \"Great\", \"HouseGOP\"]\n",
    "keywords_by_topic['family'] = [\"FLOTUS\", \"Melania\", \"Ivanka\", \"Don\", \"IvankaTrump\", \"DonaldJTrumpJr\"]\n",
    "keywords_by_topic['government'] = [\"Senate\", \"Congress\", \"USA\", \"U.S.\", \"United\", \"America\", \"States\", \"Country\", \"State\", 'country', \"Washington\"]\n",
    "keywords_by_topic['media'] = [\"Fox\", \"CNN\", \"News\", \"news\", \"media\", \"Media\", \"foxandfriends\", \"FoxNews\", \"Fake\", 'fake', \"NEWS\", \"FAKE\"]\n",
    "keywords_by_topic['states'] = [\"California\", \"Texas\", \"Florida\", \"Virginia\", \"Iowa\", \"Hampshire\", \"Carolina\", \"Oregon\", \"Dakota\", \"Utah\", \"Pennsylvania\", \"Oklahoma\", \"Nevada\", \"Arizona\", \"Montana\", \"Idaho\", \"Nebraska\", \"Michigan\", \"Illinois\", \"Indiana\", \"Ohio\", \"Vermont\", \"Maine\", \"York\", \"Tennessee\", \"Mississippi\", \"Louisiana\", \"Alabama\", \"Georgia\", \"Delaware\"]\n",
    "keywords_by_topic['social_media'] = [\"Twitter\", \"Facebook\", \"Zuckerberg\", \"Dorsey\"]\n",
    "keywords_by_topic['Obama'] = [\"Barack\", \"Obama\", \"ObamaCare\"]\n",
    "keywords_by_topic['FBI'] = [\"FBI\", \"Comey\", \"Mueller\", \"DOJ\"]\n",
    "keywords_by_topic['rivals'] = [\"Warren\", \"Bernie\", \"Sanders\", \"Biden\", \"Pete\", \"Buttegieg\", \"Beto\", \"O'Rourke\", \"Klobuchar\", \"Kamala\", \"Harris\", \"KamalaHarris\"]\n",
    "keywords_by_topic['MiddleEast'] = [\"ISIS\", \"Syria\", \"Yemen\", \"Iran\", \"Saudi\", \"Arabia\", \"Iraq\", \"Afghanistan\", \"Lebanon\", \"Israel\", \"Assad\", \"Ayatollah\", \"Palestine\", \"Turkey\", \"Abu\", \"al-Baghdadi\", \"Kurd\", \"Kurds\"]\n",
    "keywords_by_topic['Ukraine_scandal'] = [\"Ukraine\", \"Zelensky\", \"Schiff\", \"RepAdamSchiff\", \"impeach\", \"impeachment\", \"whistleblower\", \"Whistleblower\", \"transcript\", \"Transcript\", \"TRANSCRIPT\"]\n",
    "keywords_by_topic['economy'] = ['economy', \"Economy\",\"Economic\", \"JOBS\", \"jobs\", \"tax\", \"taxation\", \"Tax\", \"taxes\", \"growth\", \"money\", \"dollars\", \"Dollars\", \"companies\"]\n",
    "keywords_by_topic['disaster'] = [\"FEMA\", \"disaster\", \"Hurricane\", \"hurricane\"]"
   ]
  },
  {
   "cell_type": "code",
   "execution_count": 4,
   "metadata": {},
   "outputs": [],
   "source": [
    "def does_tweet_mention_topic (topic, words):\n",
    "    for word in words:\n",
    "        if word in keywords_by_topic[topic]:\n",
    "            return True\n",
    "    return False"
   ]
  },
  {
   "cell_type": "code",
   "execution_count": 4,
   "metadata": {
    "scrolled": false
   },
   "outputs": [
    {
     "name": "stdout",
     "output_type": "stream",
     "text": [
      "                                          clean_text\n",
      "0  Retweet GOPoversight: Days since RepAdamSchiff...\n",
      "1  Retweet RepMattGaetz: MUST-READ: \"Gaetz: 'Dona...\n",
      "2  Retweet RepDougCollins: Adam Schiff wants to i...\n",
      "3  Retweet RepGregPence: After seven weeks of run...\n",
      "4  Retweet RepJeffDuncan: Now Pelosi & Schiff wan...\n"
     ]
    }
   ],
   "source": [
    "tweet_predictors = pd.DataFrame()\n",
    "\n",
    "hashtag_re = re.compile(\"#\")\n",
    "mentions_re = re.compile(\"@\")\n",
    "\n",
    "total_text = pd.DataFrame(columns=['word', 'pos'])\n",
    "\n",
    "for index, tweet in raw_tweets.iterrows():\n",
    "    tweet_text = tweet['text']\n",
    "    words = tweet_text.split()\n",
    "    \n",
    "    clean_text = tweet_text.replace(\"RT\", \"Retweet\")\n",
    "    clean_text = clean_text.replace(\"@\", '')\n",
    "    clean_text = clean_text.replace(\"#\", '')\n",
    "    clean_text = clean_text.replace(\"&amp;\", '&')\n",
    "    clean_text = re.sub(r'https:\\/\\/t.co.*$', '', clean_text)\n",
    "\n",
    "    tweet_predictors.loc[index, 'clean_text'] = clean_text\n",
    "\n",
    "#print(len(total_text))\n",
    "#print(tweet_predictors.iloc[0:500].loc[tweet_predictors['num_hashtags'] > 0])\n",
    "print(tweet_predictors.head())"
   ]
  },
  {
   "cell_type": "code",
   "execution_count": 9,
   "metadata": {},
   "outputs": [],
   "source": [
    "total_text.to_csv('nlp_parsed_words')"
   ]
  },
  {
   "cell_type": "code",
   "execution_count": 5,
   "metadata": {},
   "outputs": [],
   "source": [
    "tweet_predictors.to_csv('cleaned_tweet_text')"
   ]
  },
  {
   "cell_type": "code",
   "execution_count": 6,
   "metadata": {},
   "outputs": [],
   "source": [
    "tweet_predictors2 = pd.read_csv('cleaned_tweet_text')\n",
    "\n",
    "for index, tweet in raw_tweets.iterrows():\n",
    "    created_day = tweet['created_at']\n",
    "    created_dt = datetime.datetime.strptime(created_day, \"%m-%d-%Y %H:%M:%S\")\n",
    "\n",
    "    tweet_predictors2.loc[index, 'year'] = created_dt.year\n",
    "    tweet_predictors2.loc[index, 'month'] = created_dt.month\n",
    "    tweet_predictors2.loc[index, 'day'] = created_dt.day\n",
    "    tweet_predictors2.loc[index, 'hour'] = created_dt.hour\n",
    "    tweet_predictors2.loc[index, 'minute'] = created_dt.minute\n"
   ]
  },
  {
   "cell_type": "code",
   "execution_count": 7,
   "metadata": {},
   "outputs": [
    {
     "name": "stdout",
     "output_type": "stream",
     "text": [
      "   Unnamed: 0                                         clean_text    year  \\\n",
      "0           0  Retweet GOPoversight: Days since RepAdamSchiff...  2019.0   \n",
      "1           1  Retweet RepMattGaetz: MUST-READ: \"Gaetz: 'Dona...  2019.0   \n",
      "2           2  Retweet RepDougCollins: Adam Schiff wants to i...  2019.0   \n",
      "3           3  Retweet RepGregPence: After seven weeks of run...  2019.0   \n",
      "4           4  Retweet RepJeffDuncan: Now Pelosi & Schiff wan...  2019.0   \n",
      "\n",
      "   month   day  hour  minute  \n",
      "0   10.0  30.0   3.0     9.0  \n",
      "1   10.0  30.0   3.0     9.0  \n",
      "2   10.0  30.0   3.0     8.0  \n",
      "3   10.0  30.0   3.0     8.0  \n",
      "4   10.0  30.0   3.0     8.0  \n"
     ]
    }
   ],
   "source": [
    "tweet_predictors2.to_csv('cleaned_tweets_text')\n",
    "print(tweet_predictors2.head())"
   ]
  }
 ],
 "metadata": {
  "kernelspec": {
   "display_name": "Python 3",
   "language": "python",
   "name": "python3"
  },
  "language_info": {
   "codemirror_mode": {
    "name": "ipython",
    "version": 3
   },
   "file_extension": ".py",
   "mimetype": "text/x-python",
   "name": "python",
   "nbconvert_exporter": "python",
   "pygments_lexer": "ipython3",
   "version": "3.7.4"
  }
 },
 "nbformat": 4,
 "nbformat_minor": 2
}
