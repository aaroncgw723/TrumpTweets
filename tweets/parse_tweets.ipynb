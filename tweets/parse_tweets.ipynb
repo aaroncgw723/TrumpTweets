{
 "cells": [
  {
   "cell_type": "code",
   "execution_count": 10,
   "metadata": {},
   "outputs": [
    {
     "name": "stderr",
     "output_type": "stream",
     "text": [
      "[nltk_data] Downloading package punkt to /Users/cwagen/nltk_data...\n",
      "[nltk_data]   Package punkt is already up-to-date!\n",
      "[nltk_data] Downloading package averaged_perceptron_tagger to\n",
      "[nltk_data]     /Users/cwagen/nltk_data...\n",
      "[nltk_data]   Unzipping taggers/averaged_perceptron_tagger.zip.\n"
     ]
    }
   ],
   "source": [
    "import numpy as np\n",
    "import pandas as pd\n",
    "import nltk\n",
    "nltk.download('punkt')\n",
    "nltk.download('averaged_perceptron_tagger')\n",
    "\n",
    "import matplotlib\n",
    "import matplotlib.pyplot as plt\n",
    "%matplotlib inline\n",
    "\n",
    "import re\n",
    "\n",
    "import seaborn as sns\n",
    "sns.set()\n",
    "sns.set_style('white')"
   ]
  },
  {
   "cell_type": "code",
   "execution_count": 4,
   "metadata": {},
   "outputs": [
    {
     "name": "stdout",
     "output_type": "stream",
     "text": [
      "11717 tweets in database\n",
      "9006 original tweets in database\n",
      "\n",
      "sources:\n",
      "    Twitter for iPhone           11149 rows\n",
      "    Twitter Media Studio           118 rows\n",
      "    Twitter Web App                  4 rows\n",
      "    Twitter Web Client              48 rows\n",
      "    Twitter for iPad                38 rows\n",
      "    Media Studio                   153 rows\n",
      "    Twitter Ads                     33 rows\n",
      "    Twitter for Android            174 rows\n"
     ]
    },
    {
     "data": {
      "image/png": "[encoded data removed]",
      "text/plain": [
       "<Figure size 1080x504 with 2 Axes>"
      ]
     },
     "metadata": {
      "needs_background": "light"
     },
     "output_type": "display_data"
    },
    {
     "name": "stdout",
     "output_type": "stream",
     "text": [
      "               source                                               text  \\\n",
      "0  Twitter for iPhone  RT @GOPoversight: Days since @RepAdamSchiff le...   \n",
      "1  Twitter for iPhone  RT @RepMattGaetz: MUST-READ: \"Gaetz: 'Donald T...   \n",
      "2  Twitter for iPhone  RT @RepDougCollins: Adam Schiff wants to impea...   \n",
      "3  Twitter for iPhone  RT @RepGregPence: After seven weeks of running...   \n",
      "4  Twitter for iPhone  RT @RepJeffDuncan: Now Pelosi &amp; Schiff wan...   \n",
      "\n",
      "            created_at  retweet_count  favorite_count is_retweet  \\\n",
      "0  10-30-2019 03:09:07           5818               0       True   \n",
      "1  10-30-2019 03:09:05           8236               0       True   \n",
      "2  10-30-2019 03:08:59           9495               0       True   \n",
      "3  10-30-2019 03:08:54           7861               0       True   \n",
      "4  10-30-2019 03:08:50           7280               0       True   \n",
      "\n",
      "                id_str  \n",
      "0  1189378671326515200  \n",
      "1  1189378663646711808  \n",
      "2  1189378636803129344  \n",
      "3  1189378618838925312  \n",
      "4  1189378598462984192  \n"
     ]
    }
   ],
   "source": [
    "raw_tweets = pd.read_csv('raw_tweets.csv')\n",
    "print(f\"{len(raw_tweets)} tweets in database\")\n",
    "print(f\"{len(raw_tweets.loc[raw_tweets.is_retweet == False])} original tweets in database\")\n",
    "\n",
    "print('')\n",
    "print(\"sources:\")\n",
    "for source in (raw_tweets.source.unique()):\n",
    "    count = len(raw_tweets.loc[raw_tweets.source == source])\n",
    "    print(f\"    {source:25s} {count:>8d} rows\")\n",
    "    \n",
    "fig, axes = plt.subplots(ncols=2,figsize=(15,7))\n",
    "axes[0].hist(raw_tweets.retweet_count, bins=100)\n",
    "axes[1].hist(raw_tweets.favorite_count, bins=100)\n",
    "axes[0].set_title('Histogram of # Retweets')\n",
    "axes[1].set_title('Histogram of # Retweets')\n",
    "axes[0].set_ylabel('count')\n",
    "axes[0].set_xlabel('# retweets')\n",
    "axes[1].set_xlabel('# favorites')\n",
    "plt.tight_layout()\n",
    "plt.show()\n",
    "print(raw_tweets.head())"
   ]
  },
  {
   "cell_type": "code",
   "execution_count": 57,
   "metadata": {
    "scrolled": false
   },
   "outputs": [
    {
     "name": "stdout",
     "output_type": "stream",
     "text": [
      "354071\n"
     ]
    }
   ],
   "source": [
    "tweet_predictors = pd.DataFrame()\n",
    "tweet_predictors['retweet_count'] = raw_tweets['retweet_count']\n",
    "tweet_predictors['favorite_count'] = raw_tweets['favorite_count']\n",
    "tweet_predictors['is_retweet'] = raw_tweets['favorite_count'].astype(int)\n",
    "\n",
    "hashtag_re = re.compile(\"#\")\n",
    "mentions_re = re.compile(\"@\")\n",
    "\n",
    "total_text = pd.DataFrame(columns=['word', 'pos'])\n",
    "\n",
    "for index, tweet in raw_tweets.iterrows():\n",
    "    tweet_text = tweet['text']\n",
    "    words = tweet_text.split()\n",
    "    hashtags = list(filter(lambda x: hashtag_re.match(x), words))\n",
    "    mentions = list(filter(lambda x: mentions_re.match(x), words))\n",
    "    \n",
    "    clean_text = tweet_text.replace(\"RT\", \"Retweet\")\n",
    "    clean_text = clean_text.replace(\"@\", '')\n",
    "    clean_text = clean_text.replace(\"#\", '')\n",
    "    clean_text = clean_text.replace(\"&amp;\", '&')\n",
    "    clean_text = re.sub(r'https:\\/\\/t.co.*$', '', clean_text)\n",
    "\n",
    "    tokens = nltk.word_tokenize(clean_text)\n",
    "    tagged = nltk.pos_tag(tokens)\n",
    "\n",
    "    dict_to_append = [{'word': x[0], 'pos': x[1]} for x in tagged]\n",
    "    if len(dict_to_append) > 0:\n",
    "        total_text = total_text.append(dict_to_append, ignore_index=True)\n",
    "    \n",
    "    tweet_predictors.loc[index, 'num_words'] = len(words)\n",
    "    tweet_predictors.loc[index, 'num_hashtags'] = len(hashtags)\n",
    "    tweet_predictors.loc[index, 'num_mentions'] = len(mentions)\n",
    "\n",
    "print(len(total_text))\n",
    "#print(tweet_predictors.iloc[0:500].loc[tweet_predictors['num_hashtags'] > 0])"
   ]
  },
  {
   "cell_type": "code",
   "execution_count": null,
   "metadata": {},
   "outputs": [],
   "source": [
    "total_text = pd.to_csv('nlp_parsed_words')"
   ]
  }
 ],
 "metadata": {
  "kernelspec": {
   "display_name": "Python 3",
   "language": "python",
   "name": "python3"
  },
  "language_info": {
   "codemirror_mode": {
    "name": "ipython",
    "version": 3
   },
   "file_extension": ".py",
   "mimetype": "text/x-python",
   "name": "python",
   "nbconvert_exporter": "python",
   "pygments_lexer": "ipython3",
   "version": "3.7.4"
  }
 },
 "nbformat": 4,
 "nbformat_minor": 2
}
