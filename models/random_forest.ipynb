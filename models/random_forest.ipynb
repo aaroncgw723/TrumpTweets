{
 "cells": [
  {
   "cell_type": "code",
   "execution_count": 1,
   "metadata": {},
   "outputs": [],
   "source": [
    "import pandas as pd\n",
    "import numpy as np\n",
    "import re\n",
    "\n",
    "from sklearn.ensemble import RandomForestRegressor\n",
    "from sklearn.model_selection import train_test_split\n",
    "\n",
    "import matplotlib.pyplot as plt\n",
    "%matplotlib inline\n",
    "\n",
    "import seaborn as sns\n",
    "sns.set_style('white')\n",
    "\n",
    "#### corin's attempts to fit random forest to data"
   ]
  },
  {
   "cell_type": "code",
   "execution_count": 56,
   "metadata": {},
   "outputs": [
    {
     "name": "stdout",
     "output_type": "stream",
     "text": [
      "   Unnamed: 0        Date   Open    High     Low  Close  Adj.Close  Volume  \\\n",
      "0           1  2017-01-03  2.511  2.5180  2.4480  2.450      2.450       0   \n",
      "1           2  2017-01-04  2.456  2.4740  2.4340  2.452      2.452       0   \n",
      "2           3  2017-01-05  2.439  2.4430  2.3460  2.368      2.368       0   \n",
      "3           4  2017-01-06  2.339  2.4250  2.3390  2.418      2.418       0   \n",
      "4           5  2017-01-08  2.363  2.4085  2.3535  2.397      2.397       0   \n",
      "5           6  2017-01-09  2.387  2.3920  2.3680  2.376      2.376       0   \n",
      "6           7  2017-01-10  2.390  2.3920  2.3630  2.379      2.379       0   \n",
      "7           8  2017-01-11  2.372  2.3980  2.3290  2.370      2.370       0   \n",
      "8           9  2017-01-12  2.336  2.3630  2.3090  2.361      2.361       0   \n",
      "9          10  2017-01-13  2.336  2.4310  2.3360  2.380      2.380       0   \n",
      "\n",
      "        Vol  \n",
      "0  0.014096  \n",
      "1  0.008150  \n",
      "2  0.020255  \n",
      "3  0.018052  \n",
      "4  0.011550  \n",
      "5  0.005042  \n",
      "6  0.006099  \n",
      "7  0.014597  \n",
      "8  0.011558  \n",
      "9  0.019929  \n"
     ]
    },
    {
     "data": {
      "text/plain": [
       "<matplotlib.axes._subplots.AxesSubplot at 0x7fbc7cf6fa58>"
      ]
     },
     "execution_count": 56,
     "metadata": {},
     "output_type": "execute_result"
    },
    {
     "data": {
      "image/png": "[encoded data removed]",
      "text/plain": [
       "<Figure size 720x504 with 2 Axes>"
      ]
     },
     "metadata": {
      "needs_background": "light"
     },
     "output_type": "display_data"
    }
   ],
   "source": [
    "bonds_10 = pd.read_csv('../bonds/adjusted^TNX.csv')\n",
    "bonds_10['Vol'] = (bonds_10['High'] - bonds_10['Low']) / (bonds_10['High'] + bonds_10['Low'])\n",
    "print(bonds_10.head(10))\n",
    "\n",
    "bonds_10['Vol_non_norm'] = bonds_10['High'] - bonds_10['Low']\n",
    "\n",
    "fig, ax = plt.subplots(1, 2, figsize=(10,7))\n",
    "sns.distplot(bonds_10['Vol_non_norm'], ax=ax[0])\n",
    "sns.distplot(bonds_10['Vol'], ax=ax[1])\n",
    "#plt.title('Histogram of Daily Delta in 10 Year Bonds')\n",
    "\n",
    "#plt.show()"
   ]
  },
  {
   "cell_type": "code",
   "execution_count": 17,
   "metadata": {},
   "outputs": [
    {
     "data": {
      "text/html": [
       "<div>\n",
       "<style scoped>\n",
       "    .dataframe tbody tr th:only-of-type {\n",
       "        vertical-align: middle;\n",
       "    }\n",
       "\n",
       "    .dataframe tbody tr th {\n",
       "        vertical-align: top;\n",
       "    }\n",
       "\n",
       "    .dataframe thead th {\n",
       "        text-align: right;\n",
       "    }\n",
       "</style>\n",
       "<table border=\"1\" class=\"dataframe\">\n",
       "  <thead>\n",
       "    <tr style=\"text-align: right;\">\n",
       "      <th></th>\n",
       "      <th>Unnamed: 0</th>\n",
       "      <th>Unnamed: 1</th>\n",
       "      <th>Unnamed: 2</th>\n",
       "      <th>num_words</th>\n",
       "      <th>num_hashtags</th>\n",
       "      <th>is_retweet</th>\n",
       "      <th>favorite_count</th>\n",
       "      <th>retweet_count</th>\n",
       "      <th>num_mentions</th>\n",
       "      <th>keyword_China</th>\n",
       "      <th>...</th>\n",
       "      <th>keyword_FBI</th>\n",
       "      <th>keyword_rivals</th>\n",
       "      <th>keyword_MiddleEast</th>\n",
       "      <th>keyword_Ukraine_scandal</th>\n",
       "      <th>keyword_economy</th>\n",
       "      <th>keyword_disaster</th>\n",
       "      <th>year</th>\n",
       "      <th>month</th>\n",
       "      <th>day</th>\n",
       "      <th>Date</th>\n",
       "    </tr>\n",
       "  </thead>\n",
       "  <tbody>\n",
       "    <tr>\n",
       "      <th>0</th>\n",
       "      <td>2017.0</td>\n",
       "      <td>1.0</td>\n",
       "      <td>20.0</td>\n",
       "      <td>181.0</td>\n",
       "      <td>3.0</td>\n",
       "      <td>1588729</td>\n",
       "      <td>1588729</td>\n",
       "      <td>362593</td>\n",
       "      <td>0.0</td>\n",
       "      <td>0.0</td>\n",
       "      <td>...</td>\n",
       "      <td>0.0</td>\n",
       "      <td>0.0</td>\n",
       "      <td>0.0</td>\n",
       "      <td>0.0</td>\n",
       "      <td>1.0</td>\n",
       "      <td>0.0</td>\n",
       "      <td>2017.0</td>\n",
       "      <td>1.0</td>\n",
       "      <td>20.0</td>\n",
       "      <td>2017-01-20</td>\n",
       "    </tr>\n",
       "    <tr>\n",
       "      <th>1</th>\n",
       "      <td>2017.0</td>\n",
       "      <td>1.0</td>\n",
       "      <td>21.0</td>\n",
       "      <td>67.0</td>\n",
       "      <td>0.0</td>\n",
       "      <td>467521</td>\n",
       "      <td>467521</td>\n",
       "      <td>103818</td>\n",
       "      <td>2.0</td>\n",
       "      <td>0.0</td>\n",
       "      <td>...</td>\n",
       "      <td>0.0</td>\n",
       "      <td>0.0</td>\n",
       "      <td>0.0</td>\n",
       "      <td>0.0</td>\n",
       "      <td>0.0</td>\n",
       "      <td>0.0</td>\n",
       "      <td>2017.0</td>\n",
       "      <td>1.0</td>\n",
       "      <td>21.0</td>\n",
       "      <td>2017-01-21</td>\n",
       "    </tr>\n",
       "    <tr>\n",
       "      <th>2</th>\n",
       "      <td>2017.0</td>\n",
       "      <td>1.0</td>\n",
       "      <td>22.0</td>\n",
       "      <td>91.0</td>\n",
       "      <td>0.0</td>\n",
       "      <td>949408</td>\n",
       "      <td>949408</td>\n",
       "      <td>184236</td>\n",
       "      <td>0.0</td>\n",
       "      <td>0.0</td>\n",
       "      <td>...</td>\n",
       "      <td>0.0</td>\n",
       "      <td>0.0</td>\n",
       "      <td>0.0</td>\n",
       "      <td>0.0</td>\n",
       "      <td>0.0</td>\n",
       "      <td>0.0</td>\n",
       "      <td>2017.0</td>\n",
       "      <td>1.0</td>\n",
       "      <td>22.0</td>\n",
       "      <td>2017-01-22</td>\n",
       "    </tr>\n",
       "    <tr>\n",
       "      <th>3</th>\n",
       "      <td>2017.0</td>\n",
       "      <td>1.0</td>\n",
       "      <td>23.0</td>\n",
       "      <td>24.0</td>\n",
       "      <td>0.0</td>\n",
       "      <td>177839</td>\n",
       "      <td>177839</td>\n",
       "      <td>26750</td>\n",
       "      <td>0.0</td>\n",
       "      <td>0.0</td>\n",
       "      <td>...</td>\n",
       "      <td>0.0</td>\n",
       "      <td>0.0</td>\n",
       "      <td>0.0</td>\n",
       "      <td>0.0</td>\n",
       "      <td>1.0</td>\n",
       "      <td>0.0</td>\n",
       "      <td>2017.0</td>\n",
       "      <td>1.0</td>\n",
       "      <td>23.0</td>\n",
       "      <td>2017-01-23</td>\n",
       "    </tr>\n",
       "    <tr>\n",
       "      <th>4</th>\n",
       "      <td>2017.0</td>\n",
       "      <td>1.0</td>\n",
       "      <td>24.0</td>\n",
       "      <td>79.0</td>\n",
       "      <td>1.0</td>\n",
       "      <td>495813</td>\n",
       "      <td>495813</td>\n",
       "      <td>86707</td>\n",
       "      <td>1.0</td>\n",
       "      <td>0.0</td>\n",
       "      <td>...</td>\n",
       "      <td>0.0</td>\n",
       "      <td>0.0</td>\n",
       "      <td>0.0</td>\n",
       "      <td>0.0</td>\n",
       "      <td>1.0</td>\n",
       "      <td>0.0</td>\n",
       "      <td>2017.0</td>\n",
       "      <td>1.0</td>\n",
       "      <td>24.0</td>\n",
       "      <td>2017-01-24</td>\n",
       "    </tr>\n",
       "    <tr>\n",
       "      <th>5</th>\n",
       "      <td>2017.0</td>\n",
       "      <td>1.0</td>\n",
       "      <td>25.0</td>\n",
       "      <td>166.0</td>\n",
       "      <td>0.0</td>\n",
       "      <td>1112361</td>\n",
       "      <td>1112361</td>\n",
       "      <td>240014</td>\n",
       "      <td>5.0</td>\n",
       "      <td>0.0</td>\n",
       "      <td>...</td>\n",
       "      <td>0.0</td>\n",
       "      <td>0.0</td>\n",
       "      <td>0.0</td>\n",
       "      <td>0.0</td>\n",
       "      <td>0.0</td>\n",
       "      <td>0.0</td>\n",
       "      <td>2017.0</td>\n",
       "      <td>1.0</td>\n",
       "      <td>25.0</td>\n",
       "      <td>2017-01-25</td>\n",
       "    </tr>\n",
       "    <tr>\n",
       "      <th>6</th>\n",
       "      <td>2017.0</td>\n",
       "      <td>1.0</td>\n",
       "      <td>26.0</td>\n",
       "      <td>188.0</td>\n",
       "      <td>0.0</td>\n",
       "      <td>970602</td>\n",
       "      <td>970602</td>\n",
       "      <td>194173</td>\n",
       "      <td>16.0</td>\n",
       "      <td>0.0</td>\n",
       "      <td>...</td>\n",
       "      <td>0.0</td>\n",
       "      <td>0.0</td>\n",
       "      <td>0.0</td>\n",
       "      <td>0.0</td>\n",
       "      <td>1.0</td>\n",
       "      <td>0.0</td>\n",
       "      <td>2017.0</td>\n",
       "      <td>1.0</td>\n",
       "      <td>26.0</td>\n",
       "      <td>2017-01-26</td>\n",
       "    </tr>\n",
       "    <tr>\n",
       "      <th>7</th>\n",
       "      <td>2017.0</td>\n",
       "      <td>1.0</td>\n",
       "      <td>27.0</td>\n",
       "      <td>107.0</td>\n",
       "      <td>2.0</td>\n",
       "      <td>841537</td>\n",
       "      <td>841537</td>\n",
       "      <td>168114</td>\n",
       "      <td>0.0</td>\n",
       "      <td>0.0</td>\n",
       "      <td>...</td>\n",
       "      <td>0.0</td>\n",
       "      <td>0.0</td>\n",
       "      <td>0.0</td>\n",
       "      <td>0.0</td>\n",
       "      <td>0.0</td>\n",
       "      <td>0.0</td>\n",
       "      <td>2017.0</td>\n",
       "      <td>1.0</td>\n",
       "      <td>27.0</td>\n",
       "      <td>2017-01-27</td>\n",
       "    </tr>\n",
       "    <tr>\n",
       "      <th>8</th>\n",
       "      <td>2017.0</td>\n",
       "      <td>1.0</td>\n",
       "      <td>28.0</td>\n",
       "      <td>95.0</td>\n",
       "      <td>1.0</td>\n",
       "      <td>465730</td>\n",
       "      <td>465730</td>\n",
       "      <td>83334</td>\n",
       "      <td>5.0</td>\n",
       "      <td>0.0</td>\n",
       "      <td>...</td>\n",
       "      <td>0.0</td>\n",
       "      <td>0.0</td>\n",
       "      <td>0.0</td>\n",
       "      <td>0.0</td>\n",
       "      <td>0.0</td>\n",
       "      <td>0.0</td>\n",
       "      <td>2017.0</td>\n",
       "      <td>1.0</td>\n",
       "      <td>28.0</td>\n",
       "      <td>2017-01-28</td>\n",
       "    </tr>\n",
       "    <tr>\n",
       "      <th>9</th>\n",
       "      <td>2017.0</td>\n",
       "      <td>1.0</td>\n",
       "      <td>29.0</td>\n",
       "      <td>130.0</td>\n",
       "      <td>0.0</td>\n",
       "      <td>968933</td>\n",
       "      <td>968933</td>\n",
       "      <td>226253</td>\n",
       "      <td>3.0</td>\n",
       "      <td>0.0</td>\n",
       "      <td>...</td>\n",
       "      <td>0.0</td>\n",
       "      <td>0.0</td>\n",
       "      <td>1.0</td>\n",
       "      <td>0.0</td>\n",
       "      <td>0.0</td>\n",
       "      <td>0.0</td>\n",
       "      <td>2017.0</td>\n",
       "      <td>1.0</td>\n",
       "      <td>29.0</td>\n",
       "      <td>2017-01-29</td>\n",
       "    </tr>\n",
       "  </tbody>\n",
       "</table>\n",
       "<p>10 rows × 34 columns</p>\n",
       "</div>"
      ],
      "text/plain": [
       "   Unnamed: 0  Unnamed: 1  Unnamed: 2  num_words  num_hashtags  is_retweet  \\\n",
       "0      2017.0         1.0        20.0      181.0           3.0     1588729   \n",
       "1      2017.0         1.0        21.0       67.0           0.0      467521   \n",
       "2      2017.0         1.0        22.0       91.0           0.0      949408   \n",
       "3      2017.0         1.0        23.0       24.0           0.0      177839   \n",
       "4      2017.0         1.0        24.0       79.0           1.0      495813   \n",
       "5      2017.0         1.0        25.0      166.0           0.0     1112361   \n",
       "6      2017.0         1.0        26.0      188.0           0.0      970602   \n",
       "7      2017.0         1.0        27.0      107.0           2.0      841537   \n",
       "8      2017.0         1.0        28.0       95.0           1.0      465730   \n",
       "9      2017.0         1.0        29.0      130.0           0.0      968933   \n",
       "\n",
       "   favorite_count  retweet_count  num_mentions  keyword_China  ...  \\\n",
       "0         1588729         362593           0.0            0.0  ...   \n",
       "1          467521         103818           2.0            0.0  ...   \n",
       "2          949408         184236           0.0            0.0  ...   \n",
       "3          177839          26750           0.0            0.0  ...   \n",
       "4          495813          86707           1.0            0.0  ...   \n",
       "5         1112361         240014           5.0            0.0  ...   \n",
       "6          970602         194173          16.0            0.0  ...   \n",
       "7          841537         168114           0.0            0.0  ...   \n",
       "8          465730          83334           5.0            0.0  ...   \n",
       "9          968933         226253           3.0            0.0  ...   \n",
       "\n",
       "   keyword_FBI  keyword_rivals  keyword_MiddleEast  keyword_Ukraine_scandal  \\\n",
       "0          0.0             0.0                 0.0                      0.0   \n",
       "1          0.0             0.0                 0.0                      0.0   \n",
       "2          0.0             0.0                 0.0                      0.0   \n",
       "3          0.0             0.0                 0.0                      0.0   \n",
       "4          0.0             0.0                 0.0                      0.0   \n",
       "5          0.0             0.0                 0.0                      0.0   \n",
       "6          0.0             0.0                 0.0                      0.0   \n",
       "7          0.0             0.0                 0.0                      0.0   \n",
       "8          0.0             0.0                 0.0                      0.0   \n",
       "9          0.0             0.0                 1.0                      0.0   \n",
       "\n",
       "   keyword_economy  keyword_disaster    year  month   day        Date  \n",
       "0              1.0               0.0  2017.0    1.0  20.0  2017-01-20  \n",
       "1              0.0               0.0  2017.0    1.0  21.0  2017-01-21  \n",
       "2              0.0               0.0  2017.0    1.0  22.0  2017-01-22  \n",
       "3              1.0               0.0  2017.0    1.0  23.0  2017-01-23  \n",
       "4              1.0               0.0  2017.0    1.0  24.0  2017-01-24  \n",
       "5              0.0               0.0  2017.0    1.0  25.0  2017-01-25  \n",
       "6              1.0               0.0  2017.0    1.0  26.0  2017-01-26  \n",
       "7              0.0               0.0  2017.0    1.0  27.0  2017-01-27  \n",
       "8              0.0               0.0  2017.0    1.0  28.0  2017-01-28  \n",
       "9              0.0               0.0  2017.0    1.0  29.0  2017-01-29  \n",
       "\n",
       "[10 rows x 34 columns]"
      ]
     },
     "execution_count": 17,
     "metadata": {},
     "output_type": "execute_result"
    }
   ],
   "source": [
    "predictors = pd.read_csv('../tweets/cleaned_tweets_by_day')\n",
    "\n",
    "#### so we can quickly pull out the desired columns later\n",
    "pred_cols = predictors.columns.values\n",
    "pred_cols = list(filter(lambda a: not re.match(\"Unnamed\", a), pred_cols))\n",
    "pred_cols = list(filter(lambda a: not re.match(\"Date\", a), pred_cols))\n",
    "\n",
    "predictors.head(10)"
   ]
  },
  {
   "cell_type": "code",
   "execution_count": 50,
   "metadata": {},
   "outputs": [],
   "source": [
    "def make_score_RF(meta_df, predictor_df, response_var, pred_cols, design_mat_outfile):\n",
    "    design = pd.merge(left=meta_df, right=predictor_df, on='Date')\n",
    "    design.to_csv(design_mat_outfile)\n",
    "    \n",
    "    X, Xt, y, yt = train_test_split(design[pred_cols], design[response_var], test_size=0.3, random_state=42)\n",
    "    \n",
    "    rf = RandomForestRegressor(n_estimators=int(round(np.sqrt(len(pred_cols))))).fit(X,y)\n",
    "   \n",
    "    print(f\"train is {rf.score(X,y):.3f}\")\n",
    "    print(f\"test is  {rf.score(Xt,yt):.3f}\")\n",
    "    \n",
    "    return(rf)"
   ]
  },
  {
   "cell_type": "code",
   "execution_count": null,
   "metadata": {},
   "outputs": [],
   "source": []
  },
  {
   "cell_type": "code",
   "execution_count": 61,
   "metadata": {},
   "outputs": [],
   "source": [
    "pred_bonds_10 = pd.merge(left=bonds_10, right=predictors, on='Date') # default is INNER join which is what we want\n",
    "#### now these have the same indices!\n",
    "pred_bonds_10.to_csv(\"data/keywords_bonds_model_data.csv\")\n",
    "\n",
    "X, Xt, y, yt = train_test_split(pred_bonds_10[pred_cols], pred_bonds_10['Vol'], \n",
    "                                test_size=0.3,\n",
    "                               random_state=42)"
   ]
  },
  {
   "cell_type": "code",
   "execution_count": 25,
   "metadata": {},
   "outputs": [
    {
     "name": "stdout",
     "output_type": "stream",
     "text": [
      "train is 0.853\n",
      "test is  0.286\n"
     ]
    },
    {
     "name": "stderr",
     "output_type": "stream",
     "text": [
      "/home/priyav/anaconda3/lib/python3.7/site-packages/sklearn/ensemble/forest.py:245: FutureWarning: The default value of n_estimators will change from 10 in version 0.20 to 100 in 0.22.\n",
      "  \"10 in version 0.20 to 100 in 0.22.\", FutureWarning)\n"
     ]
    }
   ],
   "source": [
    "rf = RandomForestRegressor().fit(X, y)\n",
    "print(f\"train is {rf.score(X,y):.3f}\")\n",
    "print(f\"test is  {rf.score(Xt,yt):.3f}\")"
   ]
  },
  {
   "cell_type": "code",
   "execution_count": 57,
   "metadata": {},
   "outputs": [
    {
     "name": "stdout",
     "output_type": "stream",
     "text": [
      "train is 0.840\n",
      "test is  0.300\n",
      "train is 0.773\n",
      "test is  -0.148\n"
     ]
    },
    {
     "data": {
      "text/plain": [
       "RandomForestRegressor(bootstrap=True, criterion='mse', max_depth=None,\n",
       "                      max_features='auto', max_leaf_nodes=None,\n",
       "                      min_impurity_decrease=0.0, min_impurity_split=None,\n",
       "                      min_samples_leaf=1, min_samples_split=2,\n",
       "                      min_weight_fraction_leaf=0.0, n_estimators=5, n_jobs=None,\n",
       "                      oob_score=False, random_state=None, verbose=0,\n",
       "                      warm_start=False)"
      ]
     },
     "execution_count": 57,
     "metadata": {},
     "output_type": "execute_result"
    }
   ],
   "source": [
    "pred_cols = predictors.columns.values\n",
    "pred_cols = list(filter(lambda a: not re.match(\"Unnamed\", a), pred_cols))\n",
    "pred_cols = list(filter(lambda a: not re.match(\"Date\", a), pred_cols))\n",
    "make_score_RF(bonds_10, predictors, 'Vol', pred_cols, \"data/keywords_model_data.csv\")\n",
    "make_score_RF(bonds_10, predictors, 'Vol_non_norm', pred_cols, \"data/keywords_model_data.csv\")\n"
   ]
  },
  {
   "cell_type": "code",
   "execution_count": 59,
   "metadata": {},
   "outputs": [
    {
     "name": "stdout",
     "output_type": "stream",
     "text": [
      "train is 0.817\n",
      "test is  -0.112\n",
      "train is 0.809\n",
      "test is  -0.248\n"
     ]
    },
    {
     "data": {
      "text/plain": [
       "RandomForestRegressor(bootstrap=True, criterion='mse', max_depth=None,\n",
       "                      max_features='auto', max_leaf_nodes=None,\n",
       "                      min_impurity_decrease=0.0, min_impurity_split=None,\n",
       "                      min_samples_leaf=1, min_samples_split=2,\n",
       "                      min_weight_fraction_leaf=0.0, n_estimators=11,\n",
       "                      n_jobs=None, oob_score=False, random_state=None,\n",
       "                      verbose=0, warm_start=False)"
      ]
     },
     "execution_count": 59,
     "metadata": {},
     "output_type": "execute_result"
    }
   ],
   "source": [
    "# Use sentiment\n",
    "predictors_sentiment = pd.read_csv('../tweets/data/grouped_daily_tweets_sentiment.csv')\n",
    "predictors_sentiment.head()\n",
    "make_score_RF(bonds_10, predictors_sentiment, 'Vol', predictors_sentiment.columns[:-1], 'data/sentiment_model_data.csv')\n",
    "make_score_RF(bonds_10, predictors_sentiment, 'Vol_non_norm', predictors_sentiment.columns[:-1], 'data/sentiment_model_data.csv')\n"
   ]
  },
  {
   "cell_type": "code",
   "execution_count": 63,
   "metadata": {},
   "outputs": [
    {
     "name": "stdout",
     "output_type": "stream",
     "text": [
      "train is 0.818\n",
      "test is  0.044\n",
      "train is 0.819\n",
      "test is  -0.129\n"
     ]
    },
    {
     "data": {
      "text/plain": [
       "RandomForestRegressor(bootstrap=True, criterion='mse', max_depth=None,\n",
       "                      max_features='auto', max_leaf_nodes=None,\n",
       "                      min_impurity_decrease=0.0, min_impurity_split=None,\n",
       "                      min_samples_leaf=1, min_samples_split=2,\n",
       "                      min_weight_fraction_leaf=0.0, n_estimators=17,\n",
       "                      n_jobs=None, oob_score=False, random_state=None,\n",
       "                      verbose=0, warm_start=False)"
      ]
     },
     "execution_count": 63,
     "metadata": {},
     "output_type": "execute_result"
    }
   ],
   "source": [
    "# Word2Vec encodings for predictors\n",
    "encodings = pd.read_csv('../tweets/data/word2vec_doc_embeddings.by_date.csv')\n",
    "\n",
    "metadata_bond_cols = ['num_words', 'num_hashtags', 'is_retweet', 'favorite_count', 'retweet_count', 'num_mentions', 'Vol', 'Vol_non_norm','Date']\n",
    "meta_df = pred_bonds_10[metadata_bond_cols]\n",
    "predictors_embed = encodings.drop(columns=['retweet_count_sum'])\n",
    "pred_encodings_cols = metadata_bond_cols[:len(metadata_bond_cols)-3] + [\"col_{}_sum\".format(i) for i in range(300)]\n",
    "\n",
    "make_score_RF(meta_df, predictors_embed, 'Vol', pred_encodings_cols, 'data/word2vec_embeddings_bonds_model_data.csv')\n",
    "\n",
    "make_score_RF(meta_df, predictors_embed, 'Vol_non_norm', pred_encodings_cols, 'data/word2vec_embeddings_bonds_model_data.csv')\n",
    "\n",
    "#pred_encodings_bonds_10 = pd.merge(left=pred_bonds_10[metadata_bond_cols], \n",
    "#                                   right=encodings.drop(columns=['retweet_count_sum']), on='Date')\n",
    "\n",
    "#pred_encodings_bonds_10.to_csv(\"data/word2vec_embeddings_bonds_model_data.csv\")\n",
    "\n",
    "\n",
    "\n",
    "#X_embed, Xt_embed, y_embed, yt_embed = train_test_split(pred_encodings_bonds_10[pred_encodings_cols],\n",
    "#                                pred_encodings_bonds_10['Vol'],\n",
    "#                                test_size=0.3,\n",
    "#                                random_state=42)\n"
   ]
  },
  {
   "cell_type": "code",
   "execution_count": 55,
   "metadata": {},
   "outputs": [
    {
     "name": "stdout",
     "output_type": "stream",
     "text": [
      "train is 0.844\n",
      "test is  0.057\n"
     ]
    }
   ],
   "source": [
    "rf_embed = RandomForestRegressor(n_estimators=int(round(np.sqrt(301)))).fit(X_embed, y_embed)\n",
    "print(f\"train is {rf_embed.score(X_embed,y_embed):.3f}\")\n",
    "print(f\"test is  {rf_embed.score(Xt_embed,yt_embed):.3f}\")"
   ]
  },
  {
   "cell_type": "markdown",
   "metadata": {},
   "source": [
    "Simple topic model"
   ]
  },
  {
   "cell_type": "code",
   "execution_count": 84,
   "metadata": {},
   "outputs": [
    {
     "name": "stdout",
     "output_type": "stream",
     "text": [
      "train is 0.646\n",
      "test is  -0.110\n",
      "train is 0.690\n",
      "test is  0.061\n"
     ]
    },
    {
     "data": {
      "text/plain": [
       "RandomForestRegressor(bootstrap=True, criterion='mse', max_depth=None,\n",
       "                      max_features='auto', max_leaf_nodes=None,\n",
       "                      min_impurity_decrease=0.0, min_impurity_split=None,\n",
       "                      min_samples_leaf=1, min_samples_split=2,\n",
       "                      min_weight_fraction_leaf=0.0, n_estimators=5, n_jobs=None,\n",
       "                      oob_score=False, random_state=None, verbose=0,\n",
       "                      warm_start=False)"
      ]
     },
     "execution_count": 84,
     "metadata": {},
     "output_type": "execute_result"
    }
   ],
   "source": [
    "predictors = pd.read_csv('../tweets/data/topic_model_simple_weights.by_day.csv')\n",
    "make_score_RF(bonds_10, predictors, 'Vol', predictors.drop(columns='Date').columns, 'data/topic_model_simple_weights_model_data.csv')\n",
    "\n",
    "# now predict with metadata about retweets\n",
    "metadata_bond_cols = ['num_words', 'num_hashtags', 'is_retweet', 'favorite_count', 'retweet_count', 'num_mentions', 'Vol', 'Vol_non_norm','Date']\n",
    "meta_df = pred_bonds_10[metadata_bond_cols]\n",
    "make_score_RF(meta_df, \n",
    "              predictors, \n",
    "              'Vol',\n",
    "              predictors.drop(columns='Date').columns.values.tolist() + meta_df.drop(columns=['Date', 'Vol', 'Vol_non_norm']).columns.values.tolist(), \n",
    "              'data/topic_model_simple_weights_model_data.csv')\n"
   ]
  }
 ],
 "metadata": {
  "kernelspec": {
   "display_name": "Python 3",
   "language": "python",
   "name": "python3"
  },
  "language_info": {
   "codemirror_mode": {
    "name": "ipython",
    "version": 3
   },
   "file_extension": ".py",
   "mimetype": "text/x-python",
   "name": "python",
   "nbconvert_exporter": "python",
   "pygments_lexer": "ipython3",
   "version": "3.7.3"
  }
 },
 "nbformat": 4,
 "nbformat_minor": 2
}
