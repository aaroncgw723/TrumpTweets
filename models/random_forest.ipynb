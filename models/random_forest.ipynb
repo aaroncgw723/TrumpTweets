{
 "cells": [
  {
   "cell_type": "code",
   "execution_count": 1,
   "metadata": {},
   "outputs": [],
   "source": [
    "import pandas as pd\n",
    "import numpy as np\n",
    "import re\n",
    "\n",
    "from sklearn.ensemble import RandomForestRegressor\n",
    "from sklearn.model_selection import train_test_split\n",
    "\n",
    "import matplotlib.pyplot as plt\n",
    "%matplotlib inline\n",
    "\n",
    "import seaborn as sns\n",
    "sns.set_style('white')\n",
    "\n",
    "#### corin's attempts to fit random forest to data"
   ]
  },
  {
   "cell_type": "code",
   "execution_count": 122,
   "metadata": {},
   "outputs": [
    {
     "data": {
      "image/png": "[encoded data removed]",
      "text/plain": [
       "<Figure size 720x504 with 1 Axes>"
      ]
     },
     "metadata": {
      "needs_background": "light"
     },
     "output_type": "display_data"
    }
   ],
   "source": [
    "bonds_10 = pd.read_csv('../bonds/adjusted^TNX.csv')\n",
    "bonds_10['Vol'] = (bonds_10['High'] - bonds_10['Low']) / (bonds_10['High'] + bonds_10['Low'])\n",
    "#print(bonds_10.head(10))\n",
    "\n",
    "bonds_30 = pd.read_csv('../bonds/adjusted^TYX.csv')\n",
    "bonds_30['Vol'] = (bonds_30['High'] - bonds_30['Low']) / (bonds_30['High'] + bonds_30['Low'])\n",
    "#print(bonds_30.head(10))\n",
    "\n",
    "fig = plt.figure(figsize=(10,7))\n",
    "sns.distplot(bonds_10['Vol'])\n",
    "plt.title(f'Histogram of Daily Delta in 10 Year Bonds (n={len(bonds_10)})')\n",
    "\n",
    "plt.show()"
   ]
  },
  {
   "cell_type": "code",
   "execution_count": 131,
   "metadata": {},
   "outputs": [],
   "source": [
    "stocks_cn = pd.read_csv('../stocks/log_adj_chinese_combo.csv')\n"
   ]
  },
  {
   "cell_type": "code",
   "execution_count": 130,
   "metadata": {},
   "outputs": [],
   "source": [
    "predictors = pd.read_csv('../tweets/cleaned_tweets_by_day')\n",
    "\n",
    "#### so we can quickly pull out the desired columns later\n",
    "pred_cols = predictors.columns.values\n",
    "pred_cols = list(filter(lambda a: not re.match(\"Unnamed\", a), pred_cols))\n",
    "pred_cols = list(filter(lambda a: not re.match(\"Date\", a), pred_cols))\n",
    "\n",
    "\n",
    "if 0:\n",
    "    fig, axes = plt.subplots(nrows=2, ncols=3, figsize=(10,7))\n",
    "\n",
    "    for ax in np.ravel(axes):\n",
    "        ax.get_yaxis().set_visible(False)\n",
    "\n",
    "    sns.distplot(predictors['num_hashtags'], ax=axes[0][0])\n",
    "    sns.distplot(predictors['retweet_count'], ax=axes[0][1])\n",
    "    sns.distplot(predictors['favorite_count'], ax=axes[0][2])\n",
    "    sns.distplot(predictors['keyword_himself'], ax=axes[1][0])\n",
    "    sns.distplot(predictors['keyword_economy'], ax=axes[1][1])\n",
    "    sns.distplot(predictors['num_mentions'], ax=axes[1][2])\n",
    "    fig.suptitle(\"Histograms of Various Response Variables\", fontsize=14)\n",
    "    plt.tight_layout\n",
    "    plt.show()\n",
    "\n"
   ]
  },
  {
   "cell_type": "code",
   "execution_count": 169,
   "metadata": {},
   "outputs": [],
   "source": [
    "pred_bonds_10 = pd.merge(left=bonds_10, right=predictors, on='Date') # default is INNER join which is what we want\n",
    "#### now these have the same indices!\n",
    "\n",
    "X, Xt, y, yt = train_test_split(pred_bonds_10[pred_cols], pred_bonds_10['Vol'], test_size=0.3)"
   ]
  },
  {
   "cell_type": "code",
   "execution_count": 170,
   "metadata": {},
   "outputs": [
    {
     "name": "stdout",
     "output_type": "stream",
     "text": [
      "train is 0.594\n",
      "test is  0.259\n"
     ]
    }
   ],
   "source": [
    "rf_b = RandomForestRegressor(n_estimators=50,max_features=0.33, max_depth=15, min_samples_leaf=5).fit(X, y)\n",
    "print(f\"train is {rf_b.score(X,y):.3f}\")\n",
    "print(f\"test is  {rf_b.score(Xt,yt):.3f}\")"
   ]
  },
  {
   "cell_type": "code",
   "execution_count": 171,
   "metadata": {},
   "outputs": [],
   "source": [
    "pred_stocks_cn = pd.merge(left=stocks_cn, right=predictors, on='Date') # default is INNER join which is what we want\n",
    "#### now these have the same indices!\n",
    "\n",
    "X, Xt, y, yt = train_test_split(pred_stocks_cn[pred_cols], pred_stocks_cn['combined'], test_size=0.3)"
   ]
  },
  {
   "cell_type": "code",
   "execution_count": 173,
   "metadata": {},
   "outputs": [
    {
     "name": "stdout",
     "output_type": "stream",
     "text": [
      "train is 0.839\n",
      "test is  0.738\n"
     ]
    }
   ],
   "source": [
    "rf_s = RandomForestRegressor(n_estimators=50,max_features=0.33, max_depth=10, min_samples_leaf=5).fit(X, y)\n",
    "print(f\"train is {rf_s.score(X,y):.3f}\")\n",
    "print(f\"test is  {rf_s.score(Xt,yt):.3f}\")\n",
    "# wow!"
   ]
  }
 ],
 "metadata": {
  "kernelspec": {
   "display_name": "Python 3",
   "language": "python",
   "name": "python3"
  },
  "language_info": {
   "codemirror_mode": {
    "name": "ipython",
    "version": 3
   },
   "file_extension": ".py",
   "mimetype": "text/x-python",
   "name": "python",
   "nbconvert_exporter": "python",
   "pygments_lexer": "ipython3",
   "version": "3.7.4"
  }
 },
 "nbformat": 4,
 "nbformat_minor": 2
}
